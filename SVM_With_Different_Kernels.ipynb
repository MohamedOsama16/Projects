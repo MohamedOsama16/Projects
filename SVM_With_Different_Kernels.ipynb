{
  "nbformat": 4,
  "nbformat_minor": 0,
  "metadata": {
    "colab": {
      "provenance": [],
      "authorship_tag": "ABX9TyMeCP5oT8MA+gfsKMkDbIyz",
      "include_colab_link": true
    },
    "kernelspec": {
      "name": "python3",
      "display_name": "Python 3"
    },
    "language_info": {
      "name": "python"
    }
  },
  "cells": [
    {
      "cell_type": "markdown",
      "metadata": {
        "id": "view-in-github",
        "colab_type": "text"
      },
      "source": [
        "<a href=\"https://colab.research.google.com/github/MohamedOsama16/Projects/blob/main/SVM_With_Different_Kernels.ipynb\" target=\"_parent\"><img src=\"https://colab.research.google.com/assets/colab-badge.svg\" alt=\"Open In Colab\"/></a>"
      ]
    },
    {
      "cell_type": "markdown",
      "source": [
        "## Import Libraries"
      ],
      "metadata": {
        "id": "7Q6H1iD68SCI"
      }
    },
    {
      "cell_type": "code",
      "execution_count": 26,
      "metadata": {
        "id": "1OhRYI-N7mVQ"
      },
      "outputs": [],
      "source": [
        "import pandas as pd\n",
        "from sklearn.model_selection import train_test_split\n",
        "from sklearn.svm import SVC\n",
        "from sklearn.metrics import accuracy_score, classification_report\n",
        "import seaborn as sns\n",
        "import matplotlib.pyplot as plt"
      ]
    },
    {
      "cell_type": "markdown",
      "source": [
        "## Load the Dataset"
      ],
      "metadata": {
        "id": "VWe8124z8Yuo"
      }
    },
    {
      "cell_type": "code",
      "source": [
        "file_path = '/content/car_evaluation.csv'\n",
        "data = pd.read_csv(file_path)"
      ],
      "metadata": {
        "id": "0lTNt59_7rCU"
      },
      "execution_count": 27,
      "outputs": []
    },
    {
      "cell_type": "markdown",
      "source": [
        "## Data Visualization"
      ],
      "metadata": {
        "id": "UDdcoZZA9Oxo"
      }
    },
    {
      "cell_type": "code",
      "source": [
        "print(\"Dataset Preview:\")\n",
        "print(data.head())"
      ],
      "metadata": {
        "colab": {
          "base_uri": "https://localhost:8080/"
        },
        "id": "qISk8TnpmFgZ",
        "outputId": "c02add1f-0800-4c41-d77d-484e04ab23c3"
      },
      "execution_count": 28,
      "outputs": [
        {
          "output_type": "stream",
          "name": "stdout",
          "text": [
            "Dataset Preview:\n",
            "   vhigh vhigh.1  2 2.1  small   low  unacc\n",
            "0  vhigh   vhigh  2   2  small   med  unacc\n",
            "1  vhigh   vhigh  2   2  small  high  unacc\n",
            "2  vhigh   vhigh  2   2    med   low  unacc\n",
            "3  vhigh   vhigh  2   2    med   med  unacc\n",
            "4  vhigh   vhigh  2   2    med  high  unacc\n"
          ]
        }
      ]
    },
    {
      "cell_type": "markdown",
      "source": [
        "## Preprocess the dataset"
      ],
      "metadata": {
        "id": "b0AZoXr-xX2q"
      }
    },
    {
      "cell_type": "code",
      "source": [
        "data_encoded = pd.get_dummies(data, drop_first=True)\n",
        "X = data_encoded.iloc[:, :-1]\n",
        "y = data_encoded.iloc[:, -1]"
      ],
      "metadata": {
        "id": "Yvlsqh1K71Bq"
      },
      "execution_count": 29,
      "outputs": []
    },
    {
      "cell_type": "markdown",
      "source": [
        "## Prepare Data for Model Training"
      ],
      "metadata": {
        "id": "LBQQ6nGF9XrF"
      }
    },
    {
      "cell_type": "code",
      "source": [
        "X_train, X_test, y_train, y_test = train_test_split(X, y, test_size=0.2, random_state=42)"
      ],
      "metadata": {
        "id": "OXaxQ2TQ787g"
      },
      "execution_count": 30,
      "outputs": []
    },
    {
      "cell_type": "markdown",
      "source": [
        "## Define kernels"
      ],
      "metadata": {
        "id": "eHVvrXY-9d8g"
      }
    },
    {
      "cell_type": "code",
      "source": [
        "kernels = ['linear', 'poly', 'rbf', 'sigmoid']\n",
        "C_values = [0.1, 1, 10]"
      ],
      "metadata": {
        "id": "hkHilT-t9dU3"
      },
      "execution_count": 31,
      "outputs": []
    },
    {
      "cell_type": "markdown",
      "source": [
        "## Train SVM Models with Different Kernels"
      ],
      "metadata": {
        "id": "BTuky4gx9iFn"
      }
    },
    {
      "cell_type": "code",
      "source": [
        "results = []"
      ],
      "metadata": {
        "id": "ZArc-AE779YB"
      },
      "execution_count": 32,
      "outputs": []
    },
    {
      "cell_type": "code",
      "source": [
        "for kernel in kernels:\n",
        "    for C in C_values:\n",
        "        model = SVC(kernel=kernel, C=C, random_state=42)\n",
        "        model.fit(X_train, y_train)\n",
        "        y_pred = model.predict(X_test)\n",
        "        accuracy = accuracy_score(y_test, y_pred)\n",
        "        results.append({'Kernel': kernel, 'C': C, 'Accuracy': accuracy})"
      ],
      "metadata": {
        "id": "t3_qHmT8mn3J"
      },
      "execution_count": 33,
      "outputs": []
    },
    {
      "cell_type": "code",
      "source": [
        "results_df = pd.DataFrame(results)"
      ],
      "metadata": {
        "id": "oalKG8wCxBfB"
      },
      "execution_count": 34,
      "outputs": []
    },
    {
      "cell_type": "markdown",
      "source": [
        "## Model Evaluation"
      ],
      "metadata": {
        "id": "eUA9BG3Q9yKA"
      }
    },
    {
      "cell_type": "code",
      "source": [
        "# Display the results\n",
        "print(\"\\nSVM Kernel Performance:\")\n",
        "print(results_df)"
      ],
      "metadata": {
        "colab": {
          "base_uri": "https://localhost:8080/"
        },
        "id": "AxomX5truaa-",
        "outputId": "da86bbcf-639a-4b5b-de83-190a596871f7"
      },
      "execution_count": 35,
      "outputs": [
        {
          "output_type": "stream",
          "name": "stdout",
          "text": [
            "\n",
            "SVM Kernel Performance:\n",
            "     Kernel     C  Accuracy\n",
            "0    linear   0.1  0.950867\n",
            "1    linear   1.0  0.982659\n",
            "2    linear  10.0  0.994220\n",
            "3      poly   0.1  0.950867\n",
            "4      poly   1.0  0.979769\n",
            "5      poly  10.0  0.994220\n",
            "6       rbf   0.1  0.950867\n",
            "7       rbf   1.0  0.988439\n",
            "8       rbf  10.0  0.994220\n",
            "9   sigmoid   0.1  0.950867\n",
            "10  sigmoid   1.0  0.962428\n",
            "11  sigmoid  10.0  0.953757\n"
          ]
        }
      ]
    },
    {
      "cell_type": "markdown",
      "source": [
        "## Results visualization"
      ],
      "metadata": {
        "id": "YD_jMaz591zP"
      }
    },
    {
      "cell_type": "code",
      "source": [
        "# Visualize the results\n",
        "plt.figure(figsize=(10, 6))\n",
        "sns.barplot(data=results_df, x='Kernel', y='Accuracy', hue='C', palette='viridis')\n",
        "plt.title('SVM Kernel Performance Comparison')\n",
        "plt.ylabel('Accuracy')\n",
        "plt.xlabel('Kernel Type')\n",
        "plt.legend(title='C')\n",
        "plt.show()\n"
      ],
      "metadata": {
        "id": "1WB_qt9k98LE",
        "colab": {
          "base_uri": "https://localhost:8080/",
          "height": 564
        },
        "outputId": "bd6e4b43-ca6f-455e-c8b4-84709be30b28"
      },
      "execution_count": 36,
      "outputs": [
        {
          "output_type": "display_data",
          "data": {
            "text/plain": [
              "<Figure size 1000x600 with 1 Axes>"
            ],
            "image/png": "[encoded data removed]"
          },
          "metadata": {}
        }
      ]
    },
    {
      "cell_type": "code",
      "source": [],
      "metadata": {
        "id": "9TjSCb5KAa50"
      },
      "execution_count": 36,
      "outputs": []
    }
  ]
}